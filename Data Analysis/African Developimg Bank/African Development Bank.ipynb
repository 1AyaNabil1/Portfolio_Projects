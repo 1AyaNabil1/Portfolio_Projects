{
 "cells": [
  {
   "cell_type": "markdown",
   "id": "88183430",
   "metadata": {},
   "source": [
    "# # This project for finding the most 3 countries that invest in the finance section according to the African Development Bank."
   ]
  },
  {
   "cell_type": "markdown",
   "id": "ee6de590",
   "metadata": {},
   "source": [
    "Created by AyaNabil on 17/10/2022 at 12:05 pm"
   ]
  },
  {
   "cell_type": "code",
   "execution_count": 1,
   "id": "151c97e8",
   "metadata": {},
   "outputs": [],
   "source": [
    "import pandas as pd"
   ]
  },
  {
   "cell_type": "code",
   "execution_count": 3,
   "id": "98cd6224",
   "metadata": {},
   "outputs": [],
   "source": [
    "df = pd.read_csv(\"finance1.csv\", encoding = \"latin -1\" )"
   ]
  },
  {
   "cell_type": "code",
   "execution_count": 4,
   "id": "89ed6399",
   "metadata": {},
   "outputs": [
    {
     "data": {
      "text/html": [
       "<div>\n",
       "<style scoped>\n",
       "    .dataframe tbody tr th:only-of-type {\n",
       "        vertical-align: middle;\n",
       "    }\n",
       "\n",
       "    .dataframe tbody tr th {\n",
       "        vertical-align: top;\n",
       "    }\n",
       "\n",
       "    .dataframe thead th {\n",
       "        text-align: right;\n",
       "    }\n",
       "</style>\n",
       "<table border=\"1\" class=\"dataframe\">\n",
       "  <thead>\n",
       "    <tr style=\"text-align: right;\">\n",
       "      <th></th>\n",
       "      <th>Project Code</th>\n",
       "      <th>Title</th>\n",
       "      <th>Commitment in U.A</th>\n",
       "      <th>Country</th>\n",
       "      <th>Starting Date</th>\n",
       "      <th>Status</th>\n",
       "      <th>Source of Financing</th>\n",
       "      <th>Sector</th>\n",
       "      <th>Sovereign</th>\n",
       "    </tr>\n",
       "  </thead>\n",
       "  <tbody>\n",
       "    <tr>\n",
       "      <th>0</th>\n",
       "      <td>P-MG-H00-002</td>\n",
       "      <td>Madagascar - Industrialisation and Financial S...</td>\n",
       "      <td>12,080,000.00</td>\n",
       "      <td>Madagascar</td>\n",
       "      <td>28 Oct 2020</td>\n",
       "      <td>Approved</td>\n",
       "      <td>African Development Fund</td>\n",
       "      <td>Finance</td>\n",
       "      <td>Sovereign</td>\n",
       "    </tr>\n",
       "    <tr>\n",
       "      <th>1</th>\n",
       "      <td>P-Z1-H00-063</td>\n",
       "      <td>Multinational - Domestic debt markets developm...</td>\n",
       "      <td>1,500,000.00</td>\n",
       "      <td>Multinational</td>\n",
       "      <td>13 Oct 2020</td>\n",
       "      <td>Implementation</td>\n",
       "      <td>Fragile States Facility</td>\n",
       "      <td>Finance</td>\n",
       "      <td>Sovereign</td>\n",
       "    </tr>\n",
       "    <tr>\n",
       "      <th>2</th>\n",
       "      <td>P-MG-HAZ-001</td>\n",
       "      <td>Madagascar - SME Business Linkages Program</td>\n",
       "      <td>1,000,000.00</td>\n",
       "      <td>Madagascar</td>\n",
       "      <td>15 May 2020</td>\n",
       "      <td>Implementation</td>\n",
       "      <td>Fragile States Facility</td>\n",
       "      <td>Finance</td>\n",
       "      <td>Sovereign</td>\n",
       "    </tr>\n",
       "    <tr>\n",
       "      <th>3</th>\n",
       "      <td>P-MU-H00-004</td>\n",
       "      <td>Mauritius - Stock Exchange Mauritius (SEM) Pro...</td>\n",
       "      <td>430,000.00</td>\n",
       "      <td>Mauritius</td>\n",
       "      <td>27 Apr 2020</td>\n",
       "      <td>Implementation</td>\n",
       "      <td>Middle Income Countries Fund</td>\n",
       "      <td>Finance</td>\n",
       "      <td>Sovereign</td>\n",
       "    </tr>\n",
       "    <tr>\n",
       "      <th>4</th>\n",
       "      <td>P-AO-HAB-009</td>\n",
       "      <td>Angola - Line of Credit to « Banco Millennium ...</td>\n",
       "      <td>23,415,605.04</td>\n",
       "      <td>Angola</td>\n",
       "      <td>15 Apr 2020</td>\n",
       "      <td>Approved</td>\n",
       "      <td>African Development Bank</td>\n",
       "      <td>Finance</td>\n",
       "      <td>Non Sovereign</td>\n",
       "    </tr>\n",
       "  </tbody>\n",
       "</table>\n",
       "</div>"
      ],
      "text/plain": [
       "   Project Code                                              Title  \\\n",
       "0  P-MG-H00-002  Madagascar - Industrialisation and Financial S...   \n",
       "1  P-Z1-H00-063  Multinational - Domestic debt markets developm...   \n",
       "2  P-MG-HAZ-001         Madagascar - SME Business Linkages Program   \n",
       "3  P-MU-H00-004  Mauritius - Stock Exchange Mauritius (SEM) Pro...   \n",
       "4  P-AO-HAB-009  Angola - Line of Credit to « Banco Millennium ...   \n",
       "\n",
       "  Commitment in U.A        Country Starting Date          Status  \\\n",
       "0     12,080,000.00     Madagascar   28 Oct 2020        Approved   \n",
       "1      1,500,000.00  Multinational   13 Oct 2020  Implementation   \n",
       "2      1,000,000.00     Madagascar   15 May 2020  Implementation   \n",
       "3        430,000.00      Mauritius   27 Apr 2020  Implementation   \n",
       "4     23,415,605.04         Angola   15 Apr 2020        Approved   \n",
       "\n",
       "            Source of Financing   Sector      Sovereign  \n",
       "0      African Development Fund  Finance      Sovereign  \n",
       "1       Fragile States Facility  Finance      Sovereign  \n",
       "2       Fragile States Facility  Finance      Sovereign  \n",
       "3  Middle Income Countries Fund  Finance      Sovereign  \n",
       "4      African Development Bank  Finance  Non Sovereign  "
      ]
     },
     "execution_count": 4,
     "metadata": {},
     "output_type": "execute_result"
    }
   ],
   "source": [
    "df.head()"
   ]
  },
  {
   "cell_type": "code",
   "execution_count": 5,
   "id": "e2e745f7",
   "metadata": {
    "scrolled": true
   },
   "outputs": [
    {
     "name": "stdout",
     "output_type": "stream",
     "text": [
      "<class 'pandas.core.frame.DataFrame'>\n",
      "RangeIndex: 355 entries, 0 to 354\n",
      "Data columns (total 9 columns):\n",
      " #   Column               Non-Null Count  Dtype \n",
      "---  ------               --------------  ----- \n",
      " 0   Project Code         337 non-null    object\n",
      " 1   Title                336 non-null    object\n",
      " 2   Commitment in U.A    336 non-null    object\n",
      " 3   Country              336 non-null    object\n",
      " 4   Starting Date        336 non-null    object\n",
      " 5   Status               336 non-null    object\n",
      " 6   Source of Financing  336 non-null    object\n",
      " 7   Sector               336 non-null    object\n",
      " 8   Sovereign            281 non-null    object\n",
      "dtypes: object(9)\n",
      "memory usage: 25.1+ KB\n"
     ]
    }
   ],
   "source": [
    "#cleaning data \n",
    "df.info()"
   ]
  },
  {
   "cell_type": "code",
   "execution_count": 7,
   "id": "3d425f34",
   "metadata": {},
   "outputs": [],
   "source": [
    "df1 = df.dropna()"
   ]
  },
  {
   "cell_type": "code",
   "execution_count": 8,
   "id": "aa4ab8b0",
   "metadata": {},
   "outputs": [
    {
     "name": "stdout",
     "output_type": "stream",
     "text": [
      "<class 'pandas.core.frame.DataFrame'>\n",
      "Int64Index: 280 entries, 0 to 351\n",
      "Data columns (total 9 columns):\n",
      " #   Column               Non-Null Count  Dtype \n",
      "---  ------               --------------  ----- \n",
      " 0   Project Code         280 non-null    object\n",
      " 1   Title                280 non-null    object\n",
      " 2   Commitment in U.A    280 non-null    object\n",
      " 3   Country              280 non-null    object\n",
      " 4   Starting Date        280 non-null    object\n",
      " 5   Status               280 non-null    object\n",
      " 6   Source of Financing  280 non-null    object\n",
      " 7   Sector               280 non-null    object\n",
      " 8   Sovereign            280 non-null    object\n",
      "dtypes: object(9)\n",
      "memory usage: 21.9+ KB\n"
     ]
    }
   ],
   "source": [
    "df1.info()"
   ]
  },
  {
   "cell_type": "code",
   "execution_count": 10,
   "id": "ac3df3da",
   "metadata": {},
   "outputs": [
    {
     "name": "stderr",
     "output_type": "stream",
     "text": [
      "C:\\Users\\Dell Latitude E5570\\AppData\\Local\\Temp\\ipykernel_19760\\1458284518.py:1: SettingWithCopyWarning: \n",
      "A value is trying to be set on a copy of a slice from a DataFrame.\n",
      "Try using .loc[row_indexer,col_indexer] = value instead\n",
      "\n",
      "See the caveats in the documentation: https://pandas.pydata.org/pandas-docs/stable/user_guide/indexing.html#returning-a-view-versus-a-copy\n",
      "  df1['Starting Date'] = pd.to_datetime(df1['Starting Date'])\n"
     ]
    }
   ],
   "source": [
    "df1['Starting Date'] = pd.to_datetime(df1['Starting Date'])"
   ]
  },
  {
   "cell_type": "code",
   "execution_count": 11,
   "id": "9afdca20",
   "metadata": {},
   "outputs": [
    {
     "name": "stdout",
     "output_type": "stream",
     "text": [
      "<class 'pandas.core.frame.DataFrame'>\n",
      "Int64Index: 280 entries, 0 to 351\n",
      "Data columns (total 9 columns):\n",
      " #   Column               Non-Null Count  Dtype         \n",
      "---  ------               --------------  -----         \n",
      " 0   Project Code         280 non-null    object        \n",
      " 1   Title                280 non-null    object        \n",
      " 2   Commitment in U.A    280 non-null    object        \n",
      " 3   Country              280 non-null    object        \n",
      " 4   Starting Date        280 non-null    datetime64[ns]\n",
      " 5   Status               280 non-null    object        \n",
      " 6   Source of Financing  280 non-null    object        \n",
      " 7   Sector               280 non-null    object        \n",
      " 8   Sovereign            280 non-null    object        \n",
      "dtypes: datetime64[ns](1), object(8)\n",
      "memory usage: 21.9+ KB\n"
     ]
    }
   ],
   "source": [
    "df1.info()"
   ]
  },
  {
   "cell_type": "code",
   "execution_count": 12,
   "id": "9b37c814",
   "metadata": {},
   "outputs": [
    {
     "data": {
      "text/html": [
       "<div>\n",
       "<style scoped>\n",
       "    .dataframe tbody tr th:only-of-type {\n",
       "        vertical-align: middle;\n",
       "    }\n",
       "\n",
       "    .dataframe tbody tr th {\n",
       "        vertical-align: top;\n",
       "    }\n",
       "\n",
       "    .dataframe thead th {\n",
       "        text-align: right;\n",
       "    }\n",
       "</style>\n",
       "<table border=\"1\" class=\"dataframe\">\n",
       "  <thead>\n",
       "    <tr style=\"text-align: right;\">\n",
       "      <th></th>\n",
       "      <th>Project Code</th>\n",
       "      <th>Title</th>\n",
       "      <th>Commitment in U.A</th>\n",
       "      <th>Country</th>\n",
       "      <th>Starting Date</th>\n",
       "      <th>Status</th>\n",
       "      <th>Source of Financing</th>\n",
       "      <th>Sector</th>\n",
       "      <th>Sovereign</th>\n",
       "    </tr>\n",
       "  </thead>\n",
       "  <tbody>\n",
       "    <tr>\n",
       "      <th>0</th>\n",
       "      <td>P-MG-H00-002</td>\n",
       "      <td>Madagascar - Industrialisation and Financial S...</td>\n",
       "      <td>12,080,000.00</td>\n",
       "      <td>Madagascar</td>\n",
       "      <td>2020-10-28</td>\n",
       "      <td>Approved</td>\n",
       "      <td>African Development Fund</td>\n",
       "      <td>Finance</td>\n",
       "      <td>Sovereign</td>\n",
       "    </tr>\n",
       "    <tr>\n",
       "      <th>1</th>\n",
       "      <td>P-Z1-H00-063</td>\n",
       "      <td>Multinational - Domestic debt markets developm...</td>\n",
       "      <td>1,500,000.00</td>\n",
       "      <td>Multinational</td>\n",
       "      <td>2020-10-13</td>\n",
       "      <td>Implementation</td>\n",
       "      <td>Fragile States Facility</td>\n",
       "      <td>Finance</td>\n",
       "      <td>Sovereign</td>\n",
       "    </tr>\n",
       "    <tr>\n",
       "      <th>2</th>\n",
       "      <td>P-MG-HAZ-001</td>\n",
       "      <td>Madagascar - SME Business Linkages Program</td>\n",
       "      <td>1,000,000.00</td>\n",
       "      <td>Madagascar</td>\n",
       "      <td>2020-05-15</td>\n",
       "      <td>Implementation</td>\n",
       "      <td>Fragile States Facility</td>\n",
       "      <td>Finance</td>\n",
       "      <td>Sovereign</td>\n",
       "    </tr>\n",
       "    <tr>\n",
       "      <th>3</th>\n",
       "      <td>P-MU-H00-004</td>\n",
       "      <td>Mauritius - Stock Exchange Mauritius (SEM) Pro...</td>\n",
       "      <td>430,000.00</td>\n",
       "      <td>Mauritius</td>\n",
       "      <td>2020-04-27</td>\n",
       "      <td>Implementation</td>\n",
       "      <td>Middle Income Countries Fund</td>\n",
       "      <td>Finance</td>\n",
       "      <td>Sovereign</td>\n",
       "    </tr>\n",
       "    <tr>\n",
       "      <th>4</th>\n",
       "      <td>P-AO-HAB-009</td>\n",
       "      <td>Angola - Line of Credit to « Banco Millennium ...</td>\n",
       "      <td>23,415,605.04</td>\n",
       "      <td>Angola</td>\n",
       "      <td>2020-04-15</td>\n",
       "      <td>Approved</td>\n",
       "      <td>African Development Bank</td>\n",
       "      <td>Finance</td>\n",
       "      <td>Non Sovereign</td>\n",
       "    </tr>\n",
       "  </tbody>\n",
       "</table>\n",
       "</div>"
      ],
      "text/plain": [
       "   Project Code                                              Title  \\\n",
       "0  P-MG-H00-002  Madagascar - Industrialisation and Financial S...   \n",
       "1  P-Z1-H00-063  Multinational - Domestic debt markets developm...   \n",
       "2  P-MG-HAZ-001         Madagascar - SME Business Linkages Program   \n",
       "3  P-MU-H00-004  Mauritius - Stock Exchange Mauritius (SEM) Pro...   \n",
       "4  P-AO-HAB-009  Angola - Line of Credit to « Banco Millennium ...   \n",
       "\n",
       "  Commitment in U.A        Country Starting Date          Status  \\\n",
       "0     12,080,000.00     Madagascar    2020-10-28        Approved   \n",
       "1      1,500,000.00  Multinational    2020-10-13  Implementation   \n",
       "2      1,000,000.00     Madagascar    2020-05-15  Implementation   \n",
       "3        430,000.00      Mauritius    2020-04-27  Implementation   \n",
       "4     23,415,605.04         Angola    2020-04-15        Approved   \n",
       "\n",
       "            Source of Financing   Sector      Sovereign  \n",
       "0      African Development Fund  Finance      Sovereign  \n",
       "1       Fragile States Facility  Finance      Sovereign  \n",
       "2       Fragile States Facility  Finance      Sovereign  \n",
       "3  Middle Income Countries Fund  Finance      Sovereign  \n",
       "4      African Development Bank  Finance  Non Sovereign  "
      ]
     },
     "execution_count": 12,
     "metadata": {},
     "output_type": "execute_result"
    }
   ],
   "source": [
    "df1.head()"
   ]
  },
  {
   "cell_type": "code",
   "execution_count": 13,
   "id": "90f5d075",
   "metadata": {},
   "outputs": [
    {
     "name": "stderr",
     "output_type": "stream",
     "text": [
      "C:\\Users\\Dell Latitude E5570\\AppData\\Local\\Temp\\ipykernel_19760\\1028767642.py:1: SettingWithCopyWarning: \n",
      "A value is trying to be set on a copy of a slice from a DataFrame.\n",
      "Try using .loc[row_indexer,col_indexer] = value instead\n",
      "\n",
      "See the caveats in the documentation: https://pandas.pydata.org/pandas-docs/stable/user_guide/indexing.html#returning-a-view-versus-a-copy\n",
      "  df1['starting year'] =df1[\"Starting Date\"].dt.year\n"
     ]
    }
   ],
   "source": [
    "df1['starting year'] =df1[\"Starting Date\"].dt.year"
   ]
  },
  {
   "cell_type": "code",
   "execution_count": 14,
   "id": "024cc29b",
   "metadata": {},
   "outputs": [
    {
     "data": {
      "text/html": [
       "<div>\n",
       "<style scoped>\n",
       "    .dataframe tbody tr th:only-of-type {\n",
       "        vertical-align: middle;\n",
       "    }\n",
       "\n",
       "    .dataframe tbody tr th {\n",
       "        vertical-align: top;\n",
       "    }\n",
       "\n",
       "    .dataframe thead th {\n",
       "        text-align: right;\n",
       "    }\n",
       "</style>\n",
       "<table border=\"1\" class=\"dataframe\">\n",
       "  <thead>\n",
       "    <tr style=\"text-align: right;\">\n",
       "      <th></th>\n",
       "      <th>Project Code</th>\n",
       "      <th>Title</th>\n",
       "      <th>Commitment in U.A</th>\n",
       "      <th>Country</th>\n",
       "      <th>Starting Date</th>\n",
       "      <th>Status</th>\n",
       "      <th>Source of Financing</th>\n",
       "      <th>Sector</th>\n",
       "      <th>Sovereign</th>\n",
       "      <th>starting year</th>\n",
       "    </tr>\n",
       "  </thead>\n",
       "  <tbody>\n",
       "    <tr>\n",
       "      <th>0</th>\n",
       "      <td>P-MG-H00-002</td>\n",
       "      <td>Madagascar - Industrialisation and Financial S...</td>\n",
       "      <td>12,080,000.00</td>\n",
       "      <td>Madagascar</td>\n",
       "      <td>2020-10-28</td>\n",
       "      <td>Approved</td>\n",
       "      <td>African Development Fund</td>\n",
       "      <td>Finance</td>\n",
       "      <td>Sovereign</td>\n",
       "      <td>2020</td>\n",
       "    </tr>\n",
       "    <tr>\n",
       "      <th>1</th>\n",
       "      <td>P-Z1-H00-063</td>\n",
       "      <td>Multinational - Domestic debt markets developm...</td>\n",
       "      <td>1,500,000.00</td>\n",
       "      <td>Multinational</td>\n",
       "      <td>2020-10-13</td>\n",
       "      <td>Implementation</td>\n",
       "      <td>Fragile States Facility</td>\n",
       "      <td>Finance</td>\n",
       "      <td>Sovereign</td>\n",
       "      <td>2020</td>\n",
       "    </tr>\n",
       "    <tr>\n",
       "      <th>2</th>\n",
       "      <td>P-MG-HAZ-001</td>\n",
       "      <td>Madagascar - SME Business Linkages Program</td>\n",
       "      <td>1,000,000.00</td>\n",
       "      <td>Madagascar</td>\n",
       "      <td>2020-05-15</td>\n",
       "      <td>Implementation</td>\n",
       "      <td>Fragile States Facility</td>\n",
       "      <td>Finance</td>\n",
       "      <td>Sovereign</td>\n",
       "      <td>2020</td>\n",
       "    </tr>\n",
       "    <tr>\n",
       "      <th>3</th>\n",
       "      <td>P-MU-H00-004</td>\n",
       "      <td>Mauritius - Stock Exchange Mauritius (SEM) Pro...</td>\n",
       "      <td>430,000.00</td>\n",
       "      <td>Mauritius</td>\n",
       "      <td>2020-04-27</td>\n",
       "      <td>Implementation</td>\n",
       "      <td>Middle Income Countries Fund</td>\n",
       "      <td>Finance</td>\n",
       "      <td>Sovereign</td>\n",
       "      <td>2020</td>\n",
       "    </tr>\n",
       "    <tr>\n",
       "      <th>4</th>\n",
       "      <td>P-AO-HAB-009</td>\n",
       "      <td>Angola - Line of Credit to « Banco Millennium ...</td>\n",
       "      <td>23,415,605.04</td>\n",
       "      <td>Angola</td>\n",
       "      <td>2020-04-15</td>\n",
       "      <td>Approved</td>\n",
       "      <td>African Development Bank</td>\n",
       "      <td>Finance</td>\n",
       "      <td>Non Sovereign</td>\n",
       "      <td>2020</td>\n",
       "    </tr>\n",
       "  </tbody>\n",
       "</table>\n",
       "</div>"
      ],
      "text/plain": [
       "   Project Code                                              Title  \\\n",
       "0  P-MG-H00-002  Madagascar - Industrialisation and Financial S...   \n",
       "1  P-Z1-H00-063  Multinational - Domestic debt markets developm...   \n",
       "2  P-MG-HAZ-001         Madagascar - SME Business Linkages Program   \n",
       "3  P-MU-H00-004  Mauritius - Stock Exchange Mauritius (SEM) Pro...   \n",
       "4  P-AO-HAB-009  Angola - Line of Credit to « Banco Millennium ...   \n",
       "\n",
       "  Commitment in U.A        Country Starting Date          Status  \\\n",
       "0     12,080,000.00     Madagascar    2020-10-28        Approved   \n",
       "1      1,500,000.00  Multinational    2020-10-13  Implementation   \n",
       "2      1,000,000.00     Madagascar    2020-05-15  Implementation   \n",
       "3        430,000.00      Mauritius    2020-04-27  Implementation   \n",
       "4     23,415,605.04         Angola    2020-04-15        Approved   \n",
       "\n",
       "            Source of Financing   Sector      Sovereign  starting year  \n",
       "0      African Development Fund  Finance      Sovereign           2020  \n",
       "1       Fragile States Facility  Finance      Sovereign           2020  \n",
       "2       Fragile States Facility  Finance      Sovereign           2020  \n",
       "3  Middle Income Countries Fund  Finance      Sovereign           2020  \n",
       "4      African Development Bank  Finance  Non Sovereign           2020  "
      ]
     },
     "execution_count": 14,
     "metadata": {},
     "output_type": "execute_result"
    }
   ],
   "source": [
    "df1.head()"
   ]
  },
  {
   "cell_type": "code",
   "execution_count": 17,
   "id": "1d418a2f",
   "metadata": {},
   "outputs": [],
   "source": [
    "df2 = df1[df1[\"starting year\"] == 2019]"
   ]
  },
  {
   "cell_type": "code",
   "execution_count": 18,
   "id": "c32a2193",
   "metadata": {},
   "outputs": [
    {
     "data": {
      "text/html": [
       "<div>\n",
       "<style scoped>\n",
       "    .dataframe tbody tr th:only-of-type {\n",
       "        vertical-align: middle;\n",
       "    }\n",
       "\n",
       "    .dataframe tbody tr th {\n",
       "        vertical-align: top;\n",
       "    }\n",
       "\n",
       "    .dataframe thead th {\n",
       "        text-align: right;\n",
       "    }\n",
       "</style>\n",
       "<table border=\"1\" class=\"dataframe\">\n",
       "  <thead>\n",
       "    <tr style=\"text-align: right;\">\n",
       "      <th></th>\n",
       "      <th>Project Code</th>\n",
       "      <th>Title</th>\n",
       "      <th>Commitment in U.A</th>\n",
       "      <th>Country</th>\n",
       "      <th>Starting Date</th>\n",
       "      <th>Status</th>\n",
       "      <th>Source of Financing</th>\n",
       "      <th>Sector</th>\n",
       "      <th>Sovereign</th>\n",
       "      <th>starting year</th>\n",
       "    </tr>\n",
       "  </thead>\n",
       "  <tbody>\n",
       "    <tr>\n",
       "      <th>10</th>\n",
       "      <td>P-ML-HZ0-001</td>\n",
       "      <td>Mali - African Trade Insurance Agency (ATI): C...</td>\n",
       "      <td>7,290,000.00</td>\n",
       "      <td>Mali</td>\n",
       "      <td>2019-12-05</td>\n",
       "      <td>Approved</td>\n",
       "      <td>African Development Fund</td>\n",
       "      <td>Finance</td>\n",
       "      <td>Sovereign</td>\n",
       "      <td>2019</td>\n",
       "    </tr>\n",
       "    <tr>\n",
       "      <th>11</th>\n",
       "      <td>P-KE-HAB-030</td>\n",
       "      <td>Kenya - Equity Group Holdings Plc</td>\n",
       "      <td>73,173,765.74</td>\n",
       "      <td>Kenya</td>\n",
       "      <td>2019-11-28</td>\n",
       "      <td>Approved</td>\n",
       "      <td>African Development Bank</td>\n",
       "      <td>Finance</td>\n",
       "      <td>Non Sovereign</td>\n",
       "      <td>2019</td>\n",
       "    </tr>\n",
       "    <tr>\n",
       "      <th>12</th>\n",
       "      <td>P-MA-HAA-012</td>\n",
       "      <td>Morocco - \"Fonds dEquipement Communal (FEC)\"</td>\n",
       "      <td>79,781,717.22</td>\n",
       "      <td>Morocco</td>\n",
       "      <td>2019-11-28</td>\n",
       "      <td>Approved</td>\n",
       "      <td>African Development Bank</td>\n",
       "      <td>Finance</td>\n",
       "      <td>Non Sovereign</td>\n",
       "      <td>2019</td>\n",
       "    </tr>\n",
       "    <tr>\n",
       "      <th>13</th>\n",
       "      <td>P-Z1-HB0-064</td>\n",
       "      <td>Multinational  Project for Digitisation of Go...</td>\n",
       "      <td>1,258,000.00</td>\n",
       "      <td>Multinational</td>\n",
       "      <td>2019-11-25</td>\n",
       "      <td>Implementation</td>\n",
       "      <td>Fragile States Facility</td>\n",
       "      <td>Finance</td>\n",
       "      <td>Sovereign</td>\n",
       "      <td>2019</td>\n",
       "    </tr>\n",
       "    <tr>\n",
       "      <th>14</th>\n",
       "      <td>P-Z1-HB0-071</td>\n",
       "      <td>SIERRA LEONE - Government Payments Digitizatio...</td>\n",
       "      <td>279,000.00</td>\n",
       "      <td>Multinational</td>\n",
       "      <td>2019-11-25</td>\n",
       "      <td>Approved</td>\n",
       "      <td>Fragile States Facility</td>\n",
       "      <td>Finance</td>\n",
       "      <td>Sovereign</td>\n",
       "      <td>2019</td>\n",
       "    </tr>\n",
       "  </tbody>\n",
       "</table>\n",
       "</div>"
      ],
      "text/plain": [
       "    Project Code                                              Title  \\\n",
       "10  P-ML-HZ0-001  Mali - African Trade Insurance Agency (ATI): C...   \n",
       "11  P-KE-HAB-030                  Kenya - Equity Group Holdings Plc   \n",
       "12  P-MA-HAA-012      Morocco - \"Fonds dEquipement Communal (FEC)\"   \n",
       "13  P-Z1-HB0-064  Multinational  Project for Digitisation of Go...   \n",
       "14  P-Z1-HB0-071  SIERRA LEONE - Government Payments Digitizatio...   \n",
       "\n",
       "   Commitment in U.A        Country Starting Date          Status  \\\n",
       "10      7,290,000.00           Mali    2019-12-05        Approved   \n",
       "11     73,173,765.74          Kenya    2019-11-28        Approved   \n",
       "12     79,781,717.22        Morocco    2019-11-28        Approved   \n",
       "13      1,258,000.00  Multinational    2019-11-25  Implementation   \n",
       "14        279,000.00  Multinational    2019-11-25        Approved   \n",
       "\n",
       "         Source of Financing   Sector      Sovereign  starting year  \n",
       "10  African Development Fund  Finance      Sovereign           2019  \n",
       "11  African Development Bank  Finance  Non Sovereign           2019  \n",
       "12  African Development Bank  Finance  Non Sovereign           2019  \n",
       "13   Fragile States Facility  Finance      Sovereign           2019  \n",
       "14   Fragile States Facility  Finance      Sovereign           2019  "
      ]
     },
     "execution_count": 18,
     "metadata": {},
     "output_type": "execute_result"
    }
   ],
   "source": [
    "df2.head()"
   ]
  },
  {
   "cell_type": "code",
   "execution_count": 21,
   "id": "758752d6",
   "metadata": {},
   "outputs": [],
   "source": [
    "df2 = df2.drop([\"Project Code\", \"Title\", \"Status\", \"Source of Financing\", \"Sector\", \"Sovereign\"], axis = 1)"
   ]
  },
  {
   "cell_type": "code",
   "execution_count": 22,
   "id": "47da0713",
   "metadata": {},
   "outputs": [
    {
     "data": {
      "text/html": [
       "<div>\n",
       "<style scoped>\n",
       "    .dataframe tbody tr th:only-of-type {\n",
       "        vertical-align: middle;\n",
       "    }\n",
       "\n",
       "    .dataframe tbody tr th {\n",
       "        vertical-align: top;\n",
       "    }\n",
       "\n",
       "    .dataframe thead th {\n",
       "        text-align: right;\n",
       "    }\n",
       "</style>\n",
       "<table border=\"1\" class=\"dataframe\">\n",
       "  <thead>\n",
       "    <tr style=\"text-align: right;\">\n",
       "      <th></th>\n",
       "      <th>Commitment in U.A</th>\n",
       "      <th>Country</th>\n",
       "      <th>Starting Date</th>\n",
       "      <th>starting year</th>\n",
       "    </tr>\n",
       "  </thead>\n",
       "  <tbody>\n",
       "    <tr>\n",
       "      <th>10</th>\n",
       "      <td>7,290,000.00</td>\n",
       "      <td>Mali</td>\n",
       "      <td>2019-12-05</td>\n",
       "      <td>2019</td>\n",
       "    </tr>\n",
       "    <tr>\n",
       "      <th>11</th>\n",
       "      <td>73,173,765.74</td>\n",
       "      <td>Kenya</td>\n",
       "      <td>2019-11-28</td>\n",
       "      <td>2019</td>\n",
       "    </tr>\n",
       "    <tr>\n",
       "      <th>12</th>\n",
       "      <td>79,781,717.22</td>\n",
       "      <td>Morocco</td>\n",
       "      <td>2019-11-28</td>\n",
       "      <td>2019</td>\n",
       "    </tr>\n",
       "    <tr>\n",
       "      <th>13</th>\n",
       "      <td>1,258,000.00</td>\n",
       "      <td>Multinational</td>\n",
       "      <td>2019-11-25</td>\n",
       "      <td>2019</td>\n",
       "    </tr>\n",
       "    <tr>\n",
       "      <th>14</th>\n",
       "      <td>279,000.00</td>\n",
       "      <td>Multinational</td>\n",
       "      <td>2019-11-25</td>\n",
       "      <td>2019</td>\n",
       "    </tr>\n",
       "  </tbody>\n",
       "</table>\n",
       "</div>"
      ],
      "text/plain": [
       "   Commitment in U.A        Country Starting Date  starting year\n",
       "10      7,290,000.00           Mali    2019-12-05           2019\n",
       "11     73,173,765.74          Kenya    2019-11-28           2019\n",
       "12     79,781,717.22        Morocco    2019-11-28           2019\n",
       "13      1,258,000.00  Multinational    2019-11-25           2019\n",
       "14        279,000.00  Multinational    2019-11-25           2019"
      ]
     },
     "execution_count": 22,
     "metadata": {},
     "output_type": "execute_result"
    }
   ],
   "source": [
    "df2.head()"
   ]
  },
  {
   "cell_type": "code",
   "execution_count": 24,
   "id": "e3595044",
   "metadata": {},
   "outputs": [
    {
     "name": "stdout",
     "output_type": "stream",
     "text": [
      "<class 'pandas.core.frame.DataFrame'>\n",
      "Int64Index: 26 entries, 10 to 36\n",
      "Data columns (total 4 columns):\n",
      " #   Column             Non-Null Count  Dtype         \n",
      "---  ------             --------------  -----         \n",
      " 0   Commitment in U.A  26 non-null     object        \n",
      " 1   Country            26 non-null     object        \n",
      " 2   Starting Date      26 non-null     datetime64[ns]\n",
      " 3   starting year      26 non-null     int64         \n",
      "dtypes: datetime64[ns](1), int64(1), object(2)\n",
      "memory usage: 2.1+ KB\n"
     ]
    }
   ],
   "source": [
    "df2.info()"
   ]
  },
  {
   "cell_type": "code",
   "execution_count": 25,
   "id": "1f755287",
   "metadata": {},
   "outputs": [],
   "source": [
    "df2[\"Commitment in U.A\"] = df2[\"Commitment in U.A\"].str.replace(r',', '')"
   ]
  },
  {
   "cell_type": "code",
   "execution_count": 27,
   "id": "82df8aef",
   "metadata": {},
   "outputs": [
    {
     "data": {
      "text/html": [
       "<div>\n",
       "<style scoped>\n",
       "    .dataframe tbody tr th:only-of-type {\n",
       "        vertical-align: middle;\n",
       "    }\n",
       "\n",
       "    .dataframe tbody tr th {\n",
       "        vertical-align: top;\n",
       "    }\n",
       "\n",
       "    .dataframe thead th {\n",
       "        text-align: right;\n",
       "    }\n",
       "</style>\n",
       "<table border=\"1\" class=\"dataframe\">\n",
       "  <thead>\n",
       "    <tr style=\"text-align: right;\">\n",
       "      <th></th>\n",
       "      <th>Commitment in U.A</th>\n",
       "      <th>Country</th>\n",
       "      <th>Starting Date</th>\n",
       "      <th>starting year</th>\n",
       "    </tr>\n",
       "  </thead>\n",
       "  <tbody>\n",
       "    <tr>\n",
       "      <th>10</th>\n",
       "      <td>7290000.00</td>\n",
       "      <td>Mali</td>\n",
       "      <td>2019-12-05</td>\n",
       "      <td>2019</td>\n",
       "    </tr>\n",
       "    <tr>\n",
       "      <th>11</th>\n",
       "      <td>73173765.74</td>\n",
       "      <td>Kenya</td>\n",
       "      <td>2019-11-28</td>\n",
       "      <td>2019</td>\n",
       "    </tr>\n",
       "    <tr>\n",
       "      <th>12</th>\n",
       "      <td>79781717.22</td>\n",
       "      <td>Morocco</td>\n",
       "      <td>2019-11-28</td>\n",
       "      <td>2019</td>\n",
       "    </tr>\n",
       "    <tr>\n",
       "      <th>13</th>\n",
       "      <td>1258000.00</td>\n",
       "      <td>Multinational</td>\n",
       "      <td>2019-11-25</td>\n",
       "      <td>2019</td>\n",
       "    </tr>\n",
       "    <tr>\n",
       "      <th>14</th>\n",
       "      <td>279000.00</td>\n",
       "      <td>Multinational</td>\n",
       "      <td>2019-11-25</td>\n",
       "      <td>2019</td>\n",
       "    </tr>\n",
       "  </tbody>\n",
       "</table>\n",
       "</div>"
      ],
      "text/plain": [
       "   Commitment in U.A        Country Starting Date  starting year\n",
       "10        7290000.00           Mali    2019-12-05           2019\n",
       "11       73173765.74          Kenya    2019-11-28           2019\n",
       "12       79781717.22        Morocco    2019-11-28           2019\n",
       "13        1258000.00  Multinational    2019-11-25           2019\n",
       "14         279000.00  Multinational    2019-11-25           2019"
      ]
     },
     "execution_count": 27,
     "metadata": {},
     "output_type": "execute_result"
    }
   ],
   "source": [
    "df2.head()"
   ]
  },
  {
   "cell_type": "code",
   "execution_count": 28,
   "id": "b062ae01",
   "metadata": {},
   "outputs": [],
   "source": [
    "df2[\"Commitment in U.A\"] = df2[\"Commitment in U.A\"].apply(pd.to_numeric)"
   ]
  },
  {
   "cell_type": "code",
   "execution_count": 29,
   "id": "91402f1c",
   "metadata": {},
   "outputs": [
    {
     "name": "stdout",
     "output_type": "stream",
     "text": [
      "<class 'pandas.core.frame.DataFrame'>\n",
      "Int64Index: 26 entries, 10 to 36\n",
      "Data columns (total 4 columns):\n",
      " #   Column             Non-Null Count  Dtype         \n",
      "---  ------             --------------  -----         \n",
      " 0   Commitment in U.A  26 non-null     float64       \n",
      " 1   Country            26 non-null     object        \n",
      " 2   Starting Date      26 non-null     datetime64[ns]\n",
      " 3   starting year      26 non-null     int64         \n",
      "dtypes: datetime64[ns](1), float64(1), int64(1), object(1)\n",
      "memory usage: 2.1+ KB\n"
     ]
    }
   ],
   "source": [
    "df2.info()"
   ]
  },
  {
   "cell_type": "code",
   "execution_count": 31,
   "id": "1906a2d2",
   "metadata": {},
   "outputs": [],
   "source": [
    "df2.to_csv(\"African Development Bank\")"
   ]
  },
  {
   "cell_type": "code",
   "execution_count": 32,
   "id": "6e657130",
   "metadata": {},
   "outputs": [],
   "source": [
    "import matplotlib.pyplot as plt\n",
    "%matplotlib inline"
   ]
  },
  {
   "cell_type": "code",
   "execution_count": 36,
   "id": "1f211e3f",
   "metadata": {},
   "outputs": [
    {
     "data": {
      "text/plain": [
       "<AxesSubplot:xlabel='Country'>"
      ]
     },
     "execution_count": 36,
     "metadata": {},
     "output_type": "execute_result"
    },
    {
     "data": {
      "image/png": "[encoded data removed]",
      "text/plain": [
       "<Figure size 576x576 with 1 Axes>"
      ]
     },
     "metadata": {
      "needs_background": "light"
     },
     "output_type": "display_data"
    }
   ],
   "source": [
    "df2.plot(x = \"Country\", y = \"Commitment in U.A\", kind = \"bar\", figsize = (8,8))"
   ]
  },
  {
   "cell_type": "code",
   "execution_count": 38,
   "id": "7f87e4a4",
   "metadata": {},
   "outputs": [
    {
     "data": {
      "text/plain": [
       "890840182.19"
      ]
     },
     "execution_count": 38,
     "metadata": {},
     "output_type": "execute_result"
    }
   ],
   "source": [
    "#sum of all Commitment in U.A for finance\n",
    "\n",
    "sum_of_finance = df2[\"Commitment in U.A\"].sum()\n",
    "sum_of_finance "
   ]
  },
  {
   "cell_type": "code",
   "execution_count": 39,
   "id": "e9055291",
   "metadata": {},
   "outputs": [],
   "source": [
    "#Gather all the repeated data together\n",
    "\n",
    "f_Multinational = df2.query(\"Country == 'Multinational'\")\n",
    "f_Tunisia = df2.query(\"Country == 'Tunisia'\")\n",
    "f_Kenya = df2.query(\"Country == 'Kenya'\")"
   ]
  },
  {
   "cell_type": "code",
   "execution_count": 40,
   "id": "48f7bd5a",
   "metadata": {},
   "outputs": [
    {
     "data": {
      "text/html": [
       "<div>\n",
       "<style scoped>\n",
       "    .dataframe tbody tr th:only-of-type {\n",
       "        vertical-align: middle;\n",
       "    }\n",
       "\n",
       "    .dataframe tbody tr th {\n",
       "        vertical-align: top;\n",
       "    }\n",
       "\n",
       "    .dataframe thead th {\n",
       "        text-align: right;\n",
       "    }\n",
       "</style>\n",
       "<table border=\"1\" class=\"dataframe\">\n",
       "  <thead>\n",
       "    <tr style=\"text-align: right;\">\n",
       "      <th></th>\n",
       "      <th>Commitment in U.A</th>\n",
       "      <th>Country</th>\n",
       "      <th>Starting Date</th>\n",
       "      <th>starting year</th>\n",
       "    </tr>\n",
       "  </thead>\n",
       "  <tbody>\n",
       "    <tr>\n",
       "      <th>11</th>\n",
       "      <td>73173765.74</td>\n",
       "      <td>Kenya</td>\n",
       "      <td>2019-11-28</td>\n",
       "      <td>2019</td>\n",
       "    </tr>\n",
       "    <tr>\n",
       "      <th>20</th>\n",
       "      <td>5666565.14</td>\n",
       "      <td>Kenya</td>\n",
       "      <td>2019-07-17</td>\n",
       "      <td>2019</td>\n",
       "    </tr>\n",
       "    <tr>\n",
       "      <th>32</th>\n",
       "      <td>75461573.29</td>\n",
       "      <td>Kenya</td>\n",
       "      <td>2019-05-15</td>\n",
       "      <td>2019</td>\n",
       "    </tr>\n",
       "  </tbody>\n",
       "</table>\n",
       "</div>"
      ],
      "text/plain": [
       "    Commitment in U.A Country Starting Date  starting year\n",
       "11        73173765.74   Kenya    2019-11-28           2019\n",
       "20         5666565.14   Kenya    2019-07-17           2019\n",
       "32        75461573.29   Kenya    2019-05-15           2019"
      ]
     },
     "execution_count": 40,
     "metadata": {},
     "output_type": "execute_result"
    }
   ],
   "source": [
    "f_Kenya"
   ]
  },
  {
   "cell_type": "code",
   "execution_count": 41,
   "id": "beac29ba",
   "metadata": {},
   "outputs": [],
   "source": [
    "# sum all the repeated data \n",
    "\n",
    "sum_pf_multinational = f_Multinational[\"Commitment in U.A\"].sum()\n",
    "sum_pf_tunisia = f_Tunisia[\"Commitment in U.A\"].sum()\n",
    "sum_pf_kenya = f_Kenya[\"Commitment in U.A\"].sum()"
   ]
  },
  {
   "cell_type": "code",
   "execution_count": 42,
   "id": "e95a8819",
   "metadata": {},
   "outputs": [],
   "source": [
    "# the percentage of each repeated country \n",
    "\n",
    "percent_multinational = (sum_pf_multinational / sum_of_finance) * 100\n",
    "percent_tunisia = (sum_pf_tunisia / sum_of_finance) * 100\n",
    "percent_kenya = (sum_pf_kenya / sum_of_finance) * 100"
   ]
  },
  {
   "cell_type": "code",
   "execution_count": 48,
   "id": "5d74df71",
   "metadata": {},
   "outputs": [
    {
     "data": {
      "text/plain": [
       "34.55011893192249"
      ]
     },
     "execution_count": 48,
     "metadata": {},
     "output_type": "execute_result"
    }
   ],
   "source": [
    "percent_multinational"
   ]
  },
  {
   "cell_type": "code",
   "execution_count": 44,
   "id": "939bf176",
   "metadata": {},
   "outputs": [
    {
     "data": {
      "text/plain": [
       "24.858176560424777"
      ]
     },
     "execution_count": 44,
     "metadata": {},
     "output_type": "execute_result"
    }
   ],
   "source": [
    "percent_tunisia"
   ]
  },
  {
   "cell_type": "code",
   "execution_count": 47,
   "id": "22a133d2",
   "metadata": {},
   "outputs": [
    {
     "data": {
      "text/plain": [
       "17.32094120301931"
      ]
     },
     "execution_count": 47,
     "metadata": {},
     "output_type": "execute_result"
    }
   ],
   "source": [
    "percent_kenya"
   ]
  },
  {
   "cell_type": "markdown",
   "id": "a74f3529",
   "metadata": {},
   "source": [
    "# The heighst country is tunisia after the multinational investegation"
   ]
  }
 ],
 "metadata": {
  "kernelspec": {
   "display_name": "Python 3 (ipykernel)",
   "language": "python",
   "name": "python3"
  },
  "language_info": {
   "codemirror_mode": {
    "name": "ipython",
    "version": 3
   },
   "file_extension": ".py",
   "mimetype": "text/x-python",
   "name": "python",
   "nbconvert_exporter": "python",
   "pygments_lexer": "ipython3",
   "version": "3.9.12"
  }
 },
 "nbformat": 4,
 "nbformat_minor": 5
}
