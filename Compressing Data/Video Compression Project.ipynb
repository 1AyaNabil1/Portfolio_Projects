{
 "cells": [
  {
   "cell_type": "code",
   "execution_count": 2,
   "id": "edc1eb95",
   "metadata": {},
   "outputs": [
    {
     "name": "stdout",
     "output_type": "stream",
     "text": [
      "Width x Height of the video before compression :  1280 x  720\n",
      "---------------------------------------\n",
      "Width x Height of the video after compression :  320 x  180\n",
      "---------------------------------------\n",
      "Moviepy - Building video before.mp4.\n",
      "MoviePy - Writing audio in beforeTEMP_MPY_wvf_snd.mp3\n"
     ]
    },
    {
     "name": "stderr",
     "output_type": "stream",
     "text": [
      "                                                                                                                       \r"
     ]
    },
    {
     "name": "stdout",
     "output_type": "stream",
     "text": [
      "MoviePy - Done.\n",
      "Moviepy - Writing video before.mp4\n",
      "\n"
     ]
    },
    {
     "name": "stderr",
     "output_type": "stream",
     "text": [
      "                                                                                                                       \r"
     ]
    },
    {
     "name": "stdout",
     "output_type": "stream",
     "text": [
      "Moviepy - Done !\n",
      "Moviepy - video ready before.mp4\n",
      "Moviepy - Building video after.mp4.\n",
      "MoviePy - Writing audio in afterTEMP_MPY_wvf_snd.mp3\n"
     ]
    },
    {
     "name": "stderr",
     "output_type": "stream",
     "text": [
      "                                                                                                                       \r"
     ]
    },
    {
     "name": "stdout",
     "output_type": "stream",
     "text": [
      "MoviePy - Done.\n",
      "Moviepy - Writing video after.mp4\n",
      "\n"
     ]
    },
    {
     "name": "stderr",
     "output_type": "stream",
     "text": [
      "                                                                                                                       \r"
     ]
    },
    {
     "name": "stdout",
     "output_type": "stream",
     "text": [
      "Moviepy - Done !\n",
      "Moviepy - video ready after.mp4\n"
     ]
    }
   ],
   "source": [
    "from moviepy.editor import *\n",
    "\n",
    "before = VideoFileClip(\"video.mp4\").subclip(60, 75)\n",
    "\n",
    "w1 = before.w\n",
    "h1 = before.h\n",
    "\n",
    "print(\"Width x Height of the video before compression : \", end = \" \")\n",
    "print(str(w1) + \" x \", str(h1))\n",
    "\n",
    "print(\"---------------------------------------\")\n",
    "\n",
    "after = before.resize(0.25)\n",
    "\n",
    "w2 = after.w\n",
    "h2 = after.h\n",
    "\n",
    "print(\"Width x Height of the video after compression : \", end = \" \")\n",
    "print(str(w2) + \" x \", str(h2))\n",
    "\n",
    "print(\"---------------------------------------\")\n",
    "\n",
    "before.write_videofile(\"before.mp4\")\n",
    "after.write_videofile(\"after.mp4\")"
   ]
  },
  {
   "cell_type": "code",
   "execution_count": 4,
   "id": "a99b0801",
   "metadata": {},
   "outputs": [
    {
     "name": "stdout",
     "output_type": "stream",
     "text": [
      "Original resolution: (1280, 720), Compressed resolution: (640, 360)\n",
      "Original size: 0.00035762786865234375MB, Compressed size: 0.00035762786865234375MB\n",
      "Original duration: 15s, Compressed duration: 15s\n",
      "Moviepy - Building video compressed.mp4.\n",
      "MoviePy - Writing audio in compressedTEMP_MPY_wvf_snd.mp3\n"
     ]
    },
    {
     "name": "stderr",
     "output_type": "stream",
     "text": [
      "                                                                                                                       \r"
     ]
    },
    {
     "name": "stdout",
     "output_type": "stream",
     "text": [
      "MoviePy - Done.\n",
      "Moviepy - Writing video compressed.mp4\n",
      "\n"
     ]
    },
    {
     "name": "stderr",
     "output_type": "stream",
     "text": [
      "                                                                                                                       "
     ]
    },
    {
     "name": "stdout",
     "output_type": "stream",
     "text": [
      "Moviepy - Done !\n",
      "Moviepy - video ready compressed.mp4\n"
     ]
    },
    {
     "name": "stderr",
     "output_type": "stream",
     "text": [
      "\r"
     ]
    }
   ],
   "source": [
    "import moviepy.editor\n",
    "\n",
    "# Load original video\n",
    "original = VideoFileClip(\"video.mp4\").subclip(60, 75)\n",
    "\n",
    "# Get original video characteristics\n",
    "org_resolution = original.size  \n",
    "org_size = original.fps * original.duration / 1024**2 \n",
    "org_duration = original.duration\n",
    "\n",
    "# Define new compressed resolution\n",
    "comp_resolution = (640, 360)\n",
    "\n",
    "# Resize original video to new resolution \n",
    "comp = original.resize(comp_resolution)\n",
    "\n",
    "# Get compressed video characteristics\n",
    "comp_resolution = compressed.size\n",
    "comp_size = compressed.fps * comp.duration / 1024**2\n",
    "comp_duration = comp.duration\n",
    "\n",
    "# Compare characteristics\n",
    "print(f\"Original resolution: {org_resolution}, Compressed resolution: {comp_resolution}\")\n",
    "print(f\"Original size: {org_size}MB, Compressed size: {comp_size}MB\")\n",
    "print(f\"Original duration: {org_duration}s, Compressed duration: {comp_duration}s\")\n",
    "\n",
    "# Save compressed video \n",
    "compressed.write_videofile(\"compressed.mp4\")"
   ]
  },
  {
   "cell_type": "code",
   "execution_count": null,
   "id": "552b1ed7",
   "metadata": {},
   "outputs": [],
   "source": []
  }
 ],
 "metadata": {
  "kernelspec": {
   "display_name": "Python 3 (ipykernel)",
   "language": "python",
   "name": "python3"
  },
  "language_info": {
   "codemirror_mode": {
    "name": "ipython",
    "version": 3
   },
   "file_extension": ".py",
   "mimetype": "text/x-python",
   "name": "python",
   "nbconvert_exporter": "python",
   "pygments_lexer": "ipython3",
   "version": "3.9.13"
  }
 },
 "nbformat": 4,
 "nbformat_minor": 5
}
